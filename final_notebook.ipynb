{
  "cells": [
    {
      "cell_type": "code",
      "execution_count": null,
      "id": "5ac36d3a",
      "metadata": {
        "id": "5ac36d3a",
        "nbgrader": {
          "grade": false,
          "grade_id": "cell-Worker_Count",
          "locked": true,
          "schema_version": 3,
          "solution": false,
          "task": false
        },
        "outputId": "cf88b954-f39a-412a-d87e-660833e735b6"
      },
      "outputs": [
        {
          "name": "stdout",
          "output_type": "stream",
          "text": [
            "NAME          PLATFORM  PRIMARY_WORKER_COUNT  SECONDARY_WORKER_COUNT  STATUS   ZONE           SCHEDULED_DELETE\r\n",
            "cluster-d3e0  GCE       2                                             RUNNING  us-central1-a\r\n"
          ]
        }
      ],
      "source": [
        "# if the following command generates an error, you probably didn't enable\n",
        "# the cluster security option \"Allow API access to all Google Cloud services\"\n",
        "# under Manage Security → Project Access when setting up the cluster\n",
        "!gcloud dataproc clusters list --region us-central1"
      ]
    },
    {
      "cell_type": "markdown",
      "id": "51cf86c5",
      "metadata": {
        "id": "51cf86c5"
      },
      "source": [
        "# Imports & Setup"
      ]
    },
    {
      "cell_type": "code",
      "execution_count": null,
      "id": "bf199e6a",
      "metadata": {
        "id": "bf199e6a",
        "nbgrader": {
          "grade": false,
          "grade_id": "cell-Setup",
          "locked": true,
          "schema_version": 3,
          "solution": false,
          "task": false
        },
        "outputId": "fc0e315d-21e9-411d-d69c-5b97e4e5d629"
      },
      "outputs": [
        {
          "name": "stdout",
          "output_type": "stream",
          "text": [
            "\u001b[33mWARNING: Running pip as the 'root' user can result in broken permissions and conflicting behaviour with the system package manager. It is recommended to use a virtual environment instead: https://pip.pypa.io/warnings/venv\u001b[0m\u001b[33m\n",
            "\u001b[0m\u001b[33mWARNING: Running pip as the 'root' user can result in broken permissions and conflicting behaviour with the system package manager. It is recommended to use a virtual environment instead: https://pip.pypa.io/warnings/venv\u001b[0m\u001b[33m\n",
            "\u001b[0m\u001b[33mWARNING: Running pip as the 'root' user can result in broken permissions and conflicting behaviour with the system package manager. It is recommended to use a virtual environment instead: https://pip.pypa.io/warnings/venv\u001b[0m\u001b[33m\n",
            "\u001b[0m\u001b[1;31mE: \u001b[0mUnable to locate package openjdk-8-jdk-headless\u001b[0m\n",
            "--2024-03-02 17:47:59--  https://repos.spark-packages.org/graphframes/graphframes/0.8.2-spark3.2-s_2.12/graphframes-0.8.2-spark3.2-s_2.12.jar\n",
            "Resolving repos.spark-packages.org (repos.spark-packages.org)... 13.226.244.21, 13.226.244.29, 13.226.244.71, ...\n",
            "Connecting to repos.spark-packages.org (repos.spark-packages.org)|13.226.244.21|:443... connected.\n",
            "HTTP request sent, awaiting response... 304 Not Modified\n",
            "File ‘/usr/local/lib/python3.7/dist-packages/pyspark/jars/graphframes-0.8.2-spark3.2-s_2.12.jar’ not modified on server. Omitting download.\n",
            "\n"
          ]
        }
      ],
      "source": [
        "!pip install -q google-cloud-storage==1.43.0\n",
        "!pip install -q graphframes\n",
        "!pip install -U -q PyDrive\n",
        "!apt install openjdk-8-jdk-headless -qq\n",
        "\n",
        "import os\n",
        "os.environ[\"JAVA_HOME\"] = \"/usr/lib/jvm/java-8-openjdk-amd64\"\n",
        "graphframes_jar = 'https://repos.spark-packages.org/graphframes/graphframes/0.8.2-spark3.2-s_2.12/graphframes-0.8.2-spark3.2-s_2.12.jar'\n",
        "spark_jars = '/usr/local/lib/python3.7/dist-packages/pyspark/jars'\n",
        "!wget -N -P $spark_jars $graphframes_jar"
      ]
    },
    {
      "cell_type": "code",
      "execution_count": null,
      "id": "d8f56ecd",
      "metadata": {
        "id": "d8f56ecd",
        "nbgrader": {
          "grade": false,
          "grade_id": "cell-Imports",
          "locked": true,
          "schema_version": 3,
          "solution": false,
          "task": false
        },
        "outputId": "a24aa24b-aa75-4823-83ca-1d7deef0f0de"
      },
      "outputs": [
        {
          "name": "stderr",
          "output_type": "stream",
          "text": [
            "[nltk_data] Downloading package stopwords to /root/nltk_data...\n",
            "[nltk_data]   Package stopwords is already up-to-date!\n"
          ]
        },
        {
          "data": {
            "text/plain": [
              "True"
            ]
          },
          "execution_count": 3,
          "metadata": {},
          "output_type": "execute_result"
        }
      ],
      "source": [
        "import pyspark\n",
        "import sys\n",
        "from collections import Counter, OrderedDict, defaultdict\n",
        "import itertools\n",
        "from itertools import islice, count, groupby\n",
        "import pandas as pd\n",
        "import os\n",
        "import re\n",
        "from operator import itemgetter\n",
        "import nltk\n",
        "from nltk.stem.porter import *\n",
        "from nltk.corpus import stopwords\n",
        "from time import time\n",
        "from pathlib import Path\n",
        "import pickle\n",
        "import pandas as pd\n",
        "from google.cloud import storage\n",
        "\n",
        "\n",
        "import hashlib\n",
        "def _hash(s):\n",
        "    return hashlib.blake2b(bytes(s, encoding='utf8'), digest_size=5).hexdigest()\n",
        "\n",
        "nltk.download('stopwords')"
      ]
    },
    {
      "cell_type": "code",
      "execution_count": null,
      "id": "38a897f2",
      "metadata": {
        "id": "38a897f2",
        "nbgrader": {
          "grade": false,
          "grade_id": "cell-jar",
          "locked": true,
          "schema_version": 3,
          "solution": false,
          "task": false
        },
        "outputId": "8f93a7ec-71e0-49c1-fc81-9af385849a90"
      },
      "outputs": [
        {
          "name": "stdout",
          "output_type": "stream",
          "text": [
            "-rw-r--r-- 1 root root 247882 Mar  2 14:50 /usr/lib/spark/jars/graphframes-0.8.2-spark3.1-s_2.12.jar\r\n"
          ]
        }
      ],
      "source": [
        "# if nothing prints here you forgot to include the initialization script when starting the cluster\n",
        "!ls -l /usr/lib/spark/jars/graph*"
      ]
    },
    {
      "cell_type": "code",
      "execution_count": null,
      "id": "47900073",
      "metadata": {
        "id": "47900073",
        "nbgrader": {
          "grade": false,
          "grade_id": "cell-pyspark-import",
          "locked": true,
          "schema_version": 3,
          "solution": false,
          "task": false
        }
      },
      "outputs": [],
      "source": [
        "from pyspark.sql import *\n",
        "from pyspark.sql.functions import *\n",
        "from pyspark import SparkContext, SparkConf, SparkFiles\n",
        "from pyspark.sql import SQLContext\n",
        "from graphframes import *\n",
        "from pyspark.ml.feature import Tokenizer, RegexTokenizer\n"
      ]
    },
    {
      "cell_type": "code",
      "execution_count": null,
      "id": "72bed56b",
      "metadata": {
        "id": "72bed56b",
        "nbgrader": {
          "grade": false,
          "grade_id": "cell-spark-version",
          "locked": true,
          "schema_version": 3,
          "solution": false,
          "task": false
        },
        "outputId": "07b4e22b-a252-42fb-fe46-d9050e4e7ca8",
        "scrolled": true
      },
      "outputs": [
        {
          "data": {
            "text/html": [
              "\n",
              "            <div>\n",
              "                <p><b>SparkSession - hive</b></p>\n",
              "                \n",
              "        <div>\n",
              "            <p><b>SparkContext</b></p>\n",
              "\n",
              "            <p><a href=\"http://cluster-d3e0-m.c.ir-assignment3-413714.internal:39563\">Spark UI</a></p>\n",
              "\n",
              "            <dl>\n",
              "              <dt>Version</dt>\n",
              "                <dd><code>v3.3.2</code></dd>\n",
              "              <dt>Master</dt>\n",
              "                <dd><code>yarn</code></dd>\n",
              "              <dt>AppName</dt>\n",
              "                <dd><code>PySparkShell</code></dd>\n",
              "            </dl>\n",
              "        </div>\n",
              "        \n",
              "            </div>\n",
              "        "
            ],
            "text/plain": [
              "<pyspark.sql.session.SparkSession at 0x7f7c1b99b340>"
            ]
          },
          "execution_count": 6,
          "metadata": {},
          "output_type": "execute_result"
        }
      ],
      "source": [
        "spark"
      ]
    },
    {
      "cell_type": "markdown",
      "source": [
        "***Connecting to my Bucket***"
      ],
      "metadata": {
        "id": "I1ZL5Zj3gmAA"
      },
      "id": "I1ZL5Zj3gmAA"
    },
    {
      "cell_type": "code",
      "execution_count": null,
      "id": "980e62a5",
      "metadata": {
        "id": "980e62a5",
        "nbgrader": {
          "grade": false,
          "grade_id": "cell-bucket_name",
          "locked": false,
          "schema_version": 3,
          "solution": true,
          "task": false
        }
      },
      "outputs": [],
      "source": [
        "# Put your bucket name below and make sure you can access it without an error\n",
        "bucket_name = '332396282'\n",
        "full_path = f\"gs://{bucket_name}/\"\n",
        "paths=[]\n",
        "\n",
        "client = storage.Client()\n",
        "blobs = client.list_blobs(bucket_name)\n",
        "bucket = client.get_bucket(bucket_name)\n",
        "\n",
        "for b in blobs:\n",
        "    if b.name.startswith(\"multistream\"):\n",
        "        paths.append(full_path+b.name)\n"
      ]
    },
    {
      "cell_type": "markdown",
      "id": "582c3f5e",
      "metadata": {
        "id": "582c3f5e"
      },
      "source": [
        "***Building the inverted indices and dictionaries***\n"
      ]
    },
    {
      "cell_type": "markdown",
      "id": "481f2044",
      "metadata": {
        "id": "481f2044"
      },
      "source": [
        "Loading wiki files"
      ]
    },
    {
      "cell_type": "code",
      "execution_count": null,
      "id": "e4c523e7",
      "metadata": {
        "id": "e4c523e7",
        "scrolled": false,
        "outputId": "6747c9f1-d409-444a-e090-86a786acee6d"
      },
      "outputs": [
        {
          "name": "stderr",
          "output_type": "stream",
          "text": [
            "                                                                                \r"
          ]
        }
      ],
      "source": [
        "parquetFile = spark.read.parquet(*paths)\n",
        "doc_text_pairs = parquetFile.select(\"id\", \"text\").rdd\n",
        "doc_anchor_pairs = parquetFile.select(\"id\", \"anchor_text\").rdd\n",
        "doc_title_pairs = parquetFile.select(\"id\", \"title\").rdd"
      ]
    },
    {
      "cell_type": "code",
      "execution_count": null,
      "id": "121fe102",
      "metadata": {
        "id": "121fe102",
        "outputId": "327fe81b-80f4-4b3a-8894-e74720d92e35"
      },
      "outputs": [
        {
          "name": "stdout",
          "output_type": "stream",
          "text": [
            "inverted_index_gcp.py\r\n"
          ]
        }
      ],
      "source": [
        "%cd -q /home/dataproc\n",
        "!ls inverted_index_gcp.py"
      ]
    },
    {
      "cell_type": "code",
      "execution_count": null,
      "id": "57c101a8",
      "metadata": {
        "id": "57c101a8",
        "scrolled": true
      },
      "outputs": [],
      "source": [
        "# adding our python module to the cluster\n",
        "sc.addFile(\"/home/dataproc/inverted_index_gcp.py\")\n",
        "sys.path.insert(0,SparkFiles.getRootDirectory())"
      ]
    },
    {
      "cell_type": "code",
      "execution_count": null,
      "id": "c259c402",
      "metadata": {
        "id": "c259c402"
      },
      "outputs": [],
      "source": [
        "from inverted_index_gcp import InvertedIndex"
      ]
    },
    {
      "cell_type": "code",
      "execution_count": null,
      "id": "1bed9b57",
      "metadata": {
        "id": "1bed9b57",
        "outputId": "6111e5c2-6661-4e81-a4e0-213e722b06f9"
      },
      "outputs": [
        {
          "name": "stderr",
          "output_type": "stream",
          "text": [
            "                                                                                \r"
          ]
        }
      ],
      "source": [
        "# create dict of docs and title and write to bucket\n",
        "doc_title = doc_title_pairs.collectAsMap()\n",
        "# upload to bucket\n",
        "blob = bucket.blob('final/doc_title.pkl')\n",
        "blob.upload_from_string(pickle.dumps(doc_title))"
      ]
    },
    {
      "cell_type": "code",
      "source": [
        "# save size of entire corpus\n",
        "corpus_len = len(doc_title_pairs)\n",
        "# upload to bucket\n",
        "blob = bucket.blob('corpus_len.pkl')\n",
        "blob.upload_from_string(pickle.dumps(corpus_len))"
      ],
      "metadata": {
        "id": "z9uzXG8HjpRI"
      },
      "id": "z9uzXG8HjpRI",
      "execution_count": null,
      "outputs": []
    },
    {
      "cell_type": "code",
      "execution_count": null,
      "id": "f3ad8fea",
      "metadata": {
        "id": "f3ad8fea",
        "nbgrader": {
          "grade": false,
          "grade_id": "cell-token2bucket",
          "locked": false,
          "schema_version": 3,
          "solution": true,
          "task": false
        }
      },
      "outputs": [],
      "source": [
        "english_stopwords = frozenset(stopwords.words('english'))\n",
        "corpus_stopwords = [\"category\", \"references\", \"also\", \"external\", \"links\",\n",
        "                    \"may\", \"first\", \"see\", \"history\", \"people\", \"one\", \"two\",\n",
        "                    \"part\", \"thumb\", \"including\", \"second\", \"following\",\n",
        "                    \"many\", \"however\", \"would\", \"became\"]\n",
        "\n",
        "all_stopwords = english_stopwords.union(corpus_stopwords)\n",
        "RE_WORD = re.compile(r\"\"\"[\\#\\@\\w](['\\-]?\\w){2,24}\"\"\", re.UNICODE)\n",
        "\n",
        "NUM_BUCKETS = 124\n",
        "def token2bucket_id(token):\n",
        "  return int(_hash(token),16) % NUM_BUCKETS\n",
        "\n",
        "\n",
        "def tokenize(text):\n",
        "  tokens = [token.group() for token in RE_WORD.finditer(text.lower())]\n",
        "  tokens = [token for token in tokens if token not in all_stopwords]\n",
        "  return tokens\n",
        "\n",
        "def tokenize_and_len(text):\n",
        "  tokens = [token.group() for token in RE_WORD.finditer(text.lower())]\n",
        "  tokens = [token for token in tokens if token not in all_stopwords]\n",
        "  return len(tokens)\n",
        "\n",
        "\n",
        "def word_count(text, id):\n",
        "  ''' Count the frequency of each word in `text` (tf) that is not included in\n",
        "  `all_stopwords` and return entries that will go into our posting lists.\n",
        "  Parameters:\n",
        "  -----------\n",
        "    text: str\n",
        "      Text of one document\n",
        "    id: int\n",
        "      Document id\n",
        "  Returns:\n",
        "  --------\n",
        "    List of tuples\n",
        "      A list of (token, (doc_id, tf)) pairs\n",
        "      for example: [(\"Anarchism\", (12, 5)), ...]\n",
        "  '''\n",
        "  tokens = [token.group() for token in RE_WORD.finditer(text.lower())]\n",
        "  tokens = [tok for tok in tokens if tok not in all_stopwords]\n",
        "  count = Counter(tokens)\n",
        "  res = []\n",
        "  for word in count:\n",
        "    res.append((word,(id,count[word])))\n",
        "  return res\n",
        "\n",
        "\n",
        "def reduce_word_counts(unsorted_pl):\n",
        "  ''' Returns a sorted posting list by wiki_id.\n",
        "  Parameters:\n",
        "  -----------\n",
        "    unsorted_pl: list of tuples\n",
        "      A list of (wiki_id, tf) tuples\n",
        "  Returns:\n",
        "  --------\n",
        "    list of tuples\n",
        "      A sorted posting list.\n",
        "  '''\n",
        "  res = sorted(unsorted_pl, key= lambda tup: tup[0])\n",
        "  return res\n",
        "\n",
        "\n",
        "def calculate_df(postings):\n",
        "  ''' Takes a posting list RDD and calculate the df for each token.\n",
        "  Parameters:\n",
        "  -----------\n",
        "    postings: RDD\n",
        "      An RDD where each element is a (token, posting_list) pair.\n",
        "  Returns:\n",
        "  --------\n",
        "    RDD\n",
        "      An RDD where each element is a (token, df) pair.\n",
        "  '''\n",
        "  res_rdd = postings.map(lambda tpl: (tpl[0], len(tpl[1])))\n",
        "  return res_rdd\n",
        "\n",
        "\n",
        "def partition_postings_and_write(postings):\n",
        "  ''' A function that partitions the posting lists into buckets, writes out\n",
        "  all posting lists in a bucket to disk, and returns the posting locations for\n",
        "  each bucket. Partitioning should be done through the use of `token2bucket`\n",
        "  above. Writing to disk should use the function  `write_a_posting_list`, a\n",
        "  static method implemented in inverted_index_colab.py under the InvertedIndex\n",
        "  class.\n",
        "  Parameters:\n",
        "  -----------\n",
        "    postings: RDD\n",
        "      An RDD where each item is a (w, posting_list) pair.\n",
        "  Returns:\n",
        "  --------\n",
        "    RDD\n",
        "      An RDD where each item is a posting locations dictionary for a bucket. The\n",
        "      posting locations maintain a list for each word of file locations and\n",
        "      offsets its posting list was written to. See `write_a_posting_list` for\n",
        "      more details.\n",
        "  '''\n",
        "  buckets_rdd = postings.map(lambda tpl: (token2bucket_id(tpl[0]),tpl))\n",
        "  grouped_rdd = buckets_rdd.groupByKey()\n",
        "  res_rdd = grouped_rdd.mapValues(list)\n",
        "  res = res_rdd.map(lambda x: InvertedIndex.write_a_posting_list(x,bucket_name))\n",
        "\n",
        "  return res"
      ]
    },
    {
      "cell_type": "markdown",
      "source": [
        "# Creating lengths dictionaries"
      ],
      "metadata": {
        "id": "oyv7-zcxk1g9"
      },
      "id": "oyv7-zcxk1g9"
    },
    {
      "cell_type": "code",
      "source": [
        "text_len_dict = doc_text_pairs.map(lambda tpl: (tpl[1],tokenize_and_len(tpl[0])))  # dict: {doc_id: len text}\n",
        "text_len_dict = text_len_dict.collectAsMap()\n",
        "# upload to bucket\n",
        "blob = bucket.blob('final/text_len_dict.pkl')\n",
        "blob.upload_from_string(pickle.dumps(text_len_dict))"
      ],
      "metadata": {
        "id": "_23sU_39lEnS"
      },
      "id": "_23sU_39lEnS",
      "execution_count": null,
      "outputs": []
    },
    {
      "cell_type": "code",
      "source": [
        "title_len_dict = doc_title_pairs.map(lambda tpl: (tpl[1],tokenize_and_len(tpl[0])))  # dict: {doc_id: len title}\n",
        "title_len_dict = text_len_dict.collectAsMap()\n",
        "# upload to bucket\n",
        "blob = bucket.blob('final/title_len_dict.pkl')\n",
        "blob.upload_from_string(pickle.dumps(title_len_dict))"
      ],
      "metadata": {
        "id": "fUvup1zhlFmP"
      },
      "id": "fUvup1zhlFmP",
      "execution_count": null,
      "outputs": []
    },
    {
      "cell_type": "code",
      "source": [
        "anchor_len_dict = anchor_text.map(lambda tpl: (tpl[1],tokenize_and_len(tpl[0])))  # dict: {doc_id: len anchor}\n",
        "anchor_len_dict = anchor_len_dict.collectAsMap()\n",
        "# upload to bucket\n",
        "blob = bucket.blob('anchor_len_dict.pkl')\n",
        "blob.upload_from_string(pickle.dumps(anchor_len_dict))"
      ],
      "metadata": {
        "id": "HbU3mZExk1F_"
      },
      "id": "HbU3mZExk1F_",
      "execution_count": null,
      "outputs": []
    },
    {
      "cell_type": "markdown",
      "source": [
        "# Creating INDICES AND DICTIONARIES for tf idf"
      ],
      "metadata": {
        "id": "ylkTf7dtlrJh"
      },
      "id": "ylkTf7dtlrJh"
    },
    {
      "cell_type": "code",
      "execution_count": null,
      "id": "fa328c8b",
      "metadata": {
        "id": "fa328c8b"
      },
      "outputs": [],
      "source": [
        "import numpy as np\n",
        "\n",
        "def calculate_idf(df):\n",
        "  tmp = corpus_len / df\n",
        "  lg = np.log10(tmp)\n",
        "  return lg\n",
        "\n",
        "def calculate_tf_idf(postings):\n",
        "\n",
        "  def calculate_tf(tpl):\n",
        "    res = []\n",
        "    for id, tf in tpl[1]:\n",
        "      res.append((id, (tf / anchor_len_dict[id]) * idf[tpl[0]]))\n",
        "    return res\n",
        "\n",
        "\n",
        "  df = calculate_df(postings)\n",
        "  idf = df.map(lambda tpl: (tpl[0], calculate_idf(tpl[1]))).collectAsMap()\n",
        "  tf_idf = postings.map(lambda tpl: (tpl[0], calculate_tf(tpl)))\n",
        "\n",
        "  return idf, tf_idf\n",
        "\n",
        "\n",
        "def clac_tfidf_norm(list_of_tfidf_scores):\n",
        "  ret = 0\n",
        "  for score in list_of_tfidf_scores:\n",
        "      ret += np.power(score,2)\n",
        "  return np.sqrt(ret)"
      ]
    },
    {
      "cell_type": "markdown",
      "source": [
        "# TEXT\n"
      ],
      "metadata": {
        "id": "R3wjT_zQluWu"
      },
      "id": "R3wjT_zQluWu"
    },
    {
      "cell_type": "code",
      "execution_count": null,
      "id": "55c8764e",
      "metadata": {
        "id": "55c8764e",
        "nbgrader": {
          "grade": false,
          "grade_id": "cell-index_construction",
          "locked": false,
          "schema_version": 3,
          "solution": true,
          "task": false
        },
        "outputId": "a6d5ee37-06a1-4321-883c-888f27d4c432"
      },
      "outputs": [
        {
          "name": "stderr",
          "output_type": "stream",
          "text": [
            "                                                                                \r"
          ]
        }
      ],
      "source": [
        "\n",
        "# word counts map\n",
        "word_counts_text = doc_text_pairs.flatMap(lambda x: word_count(x[0], x[1]))\n",
        "postings_text = word_counts_text.groupByKey().mapValues(reduce_word_counts)\n",
        "# filtering postings and calculate df\n",
        "postings_filtered_text = postings_text.filter(lambda x: len(x[1])>50)\n",
        "w2df = calculate_df(postings_filtered_text)\n",
        "w2df_dict = w2df.collectAsMap()\n",
        "# partition posting lists and write out\n",
        "_ = partition_postings_and_write(postings_filtered_text).collect()\n"
      ]
    },
    {
      "cell_type": "code",
      "execution_count": null,
      "id": "ab3296f4",
      "metadata": {
        "id": "ab3296f4",
        "nbgrader": {
          "grade": true,
          "grade_id": "collect-posting",
          "locked": true,
          "points": 0,
          "schema_version": 3,
          "solution": false,
          "task": false
        }
      },
      "outputs": [],
      "source": [
        "# collect all posting lists locations into one super-set\n",
        "super_posting_locs = defaultdict(list)\n",
        "for blob in client.list_blobs(bucket_name, prefix='final/text_postings'):\n",
        "  if not blob.name.endswith(\"pickle\"):\n",
        "    continue\n",
        "  with blob.open(\"rb\") as f:\n",
        "    posting_locs = pickle.load(f)\n",
        "    for k, v in posting_locs.items():\n",
        "      super_posting_locs[k].extend(v)"
      ]
    },
    {
      "cell_type": "code",
      "execution_count": null,
      "id": "a5d2cfb6",
      "metadata": {
        "id": "a5d2cfb6",
        "outputId": "6df213cd-020d-4d2f-df72-8cc9f6d2739e"
      },
      "outputs": [
        {
          "name": "stdout",
          "output_type": "stream",
          "text": [
            "Copying file://index.pkl [Content-Type=application/octet-stream]...\n",
            "/ [1 files][  3.4 MiB/  3.4 MiB]                                                \n",
            "Operation completed over 1 objects/3.4 MiB.                                      \n"
          ]
        }
      ],
      "source": [
        "# Create inverted index instance\n",
        "inverted = InvertedIndex()\n",
        "# Adding the posting locations dictionary to the inverted index\n",
        "inverted.posting_locs = super_posting_locs\n",
        "# Add the token - df dictionary to the inverted index\n",
        "inverted.df = w2df_dict\n",
        "# write the global stats out\n",
        "inverted.write_index('.', 'index')\n",
        "# upload to gs\n",
        "index_src = \"index.pkl\"\n",
        "index_dst = f'gs://{bucket_name}/final/text_postings/{index_src}'\n",
        "!gsutil cp $index_src $index_dst"
      ]
    },
    {
      "cell_type": "code",
      "execution_count": null,
      "id": "8f880d59",
      "metadata": {
        "id": "8f880d59",
        "nbgrader": {
          "grade": false,
          "grade_id": "cell-index_dst_size",
          "locked": true,
          "schema_version": 3,
          "solution": false,
          "task": false
        },
        "outputId": "7fa67046-0d2a-49a5-98aa-6b733cab67f8"
      },
      "outputs": [
        {
          "name": "stdout",
          "output_type": "stream",
          "text": [
            "  3.38 MiB  2024-03-02T17:48:52Z  gs://test_bucket_anchor/postings_gcp/index.pkl\r\n",
            "TOTAL: 1 objects, 3547602 bytes (3.38 MiB)\r\n"
          ]
        }
      ],
      "source": [
        "!gsutil ls -lh $index_dst"
      ]
    },
    {
      "cell_type": "markdown",
      "source": [
        "Dictionaries"
      ],
      "metadata": {
        "id": "mSaRRX52nV76"
      },
      "id": "mSaRRX52nV76"
    },
    {
      "cell_type": "code",
      "execution_count": null,
      "id": "fc61ac2f",
      "metadata": {
        "scrolled": false,
        "id": "fc61ac2f",
        "outputId": "52c020ef-f6cd-4822-ecda-12a55e21c8b9"
      },
      "outputs": [
        {
          "name": "stderr",
          "output_type": "stream",
          "text": [
            "                                                                                \r"
          ]
        }
      ],
      "source": [
        "idf, postings_tfidf = calculate_tf_idf(postings_filtered_text)\n",
        "docs_tfidf = postings_tfidf.flatMap(lambda x: x[1]).groupByKey().mapValues(list) #return: doc id, list of tfidf scores\n",
        "doc_normalization = docs_tfidf.map(lambda x:(x[0], clac_tfidf_norm(x[1]))).collectAsMap()\n",
        "\n",
        "# upload to bucket\n",
        "blob = bucket.blob('final/idf_text.pkl')\n",
        "blob.upload_from_string(pickle.dumps(idf))\n",
        "\n",
        "# upload to bucket\n",
        "blob = bucket.blob('final/text_normalization.pkl')\n",
        "blob.upload_from_string(pickle.dumps(doc_normalization))"
      ]
    },
    {
      "cell_type": "markdown",
      "source": [
        "# TITLE"
      ],
      "metadata": {
        "id": "XHrb2qEvmVEd"
      },
      "id": "XHrb2qEvmVEd"
    },
    {
      "cell_type": "code",
      "source": [
        "# word counts map\n",
        "word_counts_title = doc_title_pairs.flatMap(lambda x: word_count(x[0], x[1]))\n",
        "postings_title = word_counts_title.groupByKey().mapValues(reduce_word_counts)\n",
        "#calculate df\n",
        "w2df = calculate_df(postings_title)\n",
        "w2df_dict = w2df.collectAsMap()\n",
        "# partition posting lists and write out\n",
        "_ = partition_postings_and_write(postings_title).collect()"
      ],
      "metadata": {
        "id": "ybfyMITfnpTH"
      },
      "id": "ybfyMITfnpTH",
      "execution_count": null,
      "outputs": []
    },
    {
      "cell_type": "code",
      "source": [
        "# collect all posting lists locations into one super-set\n",
        "super_posting_locs = defaultdict(list)\n",
        "for blob in client.list_blobs(bucket_name, prefix='title_InvertedIndex'):\n",
        "  if not blob.name.endswith(\"pickle\"):\n",
        "    continue\n",
        "  with blob.open(\"rb\") as f:\n",
        "    posting_locs = pickle.load(f)\n",
        "    for k, v in posting_locs.items():\n",
        "      super_posting_locs[k].extend(v)"
      ],
      "metadata": {
        "id": "ikIRZhuFn082"
      },
      "id": "ikIRZhuFn082",
      "execution_count": null,
      "outputs": []
    },
    {
      "cell_type": "code",
      "source": [
        "# Create inverted index instance\n",
        "inverted = InvertedIndex()\n",
        "# Adding the posting locations dictionary to the inverted index\n",
        "inverted.posting_locs = super_posting_locs\n",
        "# Add the token - df dictionary to the inverted index\n",
        "inverted.df = w2df_dict\n",
        "# write the global stats out\n",
        "inverted.write_index('.', 'index')\n",
        "# upload to gs\n",
        "index_src = \"title_InvertedIndex.pkl\"\n",
        "index_dst = f'gs://{bucket_name}/title_InvertedIndex/{index_src}'\n",
        "!gsutil cp $index_src $index_dst"
      ],
      "metadata": {
        "id": "AWHQL_Qyn3yf"
      },
      "id": "AWHQL_Qyn3yf",
      "execution_count": null,
      "outputs": []
    },
    {
      "cell_type": "markdown",
      "source": [
        "Dictionaries"
      ],
      "metadata": {
        "id": "R9-ZsBSkoAjh"
      },
      "id": "R9-ZsBSkoAjh"
    },
    {
      "cell_type": "code",
      "source": [
        "idf, postings_tfidf = calculate_tf_idf(postings_title)\n",
        "docs_tfidf = postings_tfidf.flatMap(lambda x: x[1]).groupByKey().mapValues(list) #return: doc id, list of tfidf scores\n",
        "doc_normalization = docs_tfidf.map(lambda x:(x[0], clac_tfidf_norm(x[1]))).collectAsMap()\n",
        "\n",
        "# upload to bucket\n",
        "blob = bucket.blob('final/idf_titles.pkl')\n",
        "blob.upload_from_string(pickle.dumps(idf))\n",
        "\n",
        "# upload to bucket\n",
        "blob = bucket.blob('final/titles_normalization.pkl')\n",
        "blob.upload_from_string(pickle.dumps(doc_normalization))"
      ],
      "metadata": {
        "id": "OV0WHSXOn6Nt"
      },
      "id": "OV0WHSXOn6Nt",
      "execution_count": null,
      "outputs": []
    },
    {
      "cell_type": "markdown",
      "source": [
        "# ANCHOR"
      ],
      "metadata": {
        "id": "3U-3BFbhpHa3"
      },
      "id": "3U-3BFbhpHa3"
    },
    {
      "cell_type": "code",
      "source": [
        "\n",
        "anchor_text = doc_anchor_pairs.flatMap(lambda x:x[1]).reduceByKey(lambda i,j:i + ', ' + j)\n",
        "anchor_text = anchor_text.map(lambda i: Row(anchor_text=i[1], id=i[0]))\n",
        "# word counts map\n",
        "word_counts = anchor_text.flatMap(lambda x: word_count(x[0], x[1]))\n",
        "postings_anchor = word_counts.groupByKey().mapValues(reduce_word_counts)\n",
        "# filtering postings and calculate df\n",
        "w2df = calculate_df(postings_anchor)\n",
        "w2df_dict = w2df.collectAsMap()\n",
        "# partition posting lists and write out\n",
        "_ = partition_postings_and_write(postings_anchor).collect()\n"
      ],
      "metadata": {
        "id": "Nv4ZcIW3l2BI"
      },
      "id": "Nv4ZcIW3l2BI",
      "execution_count": null,
      "outputs": []
    },
    {
      "cell_type": "code",
      "execution_count": null,
      "id": "a2c07ea3",
      "metadata": {
        "id": "a2c07ea3",
        "outputId": "681957f8-930f-459e-c115-5a59a61164a9"
      },
      "outputs": [
        {
          "name": "stderr",
          "output_type": "stream",
          "text": [
            "                                                                                \r"
          ]
        }
      ],
      "source": [
        "# collect all posting lists locations into one super-set\n",
        "super_posting_locs = defaultdict(list)\n",
        "for blob in client.list_blobs(bucket_name, prefix='postings_gcp_anchor'):\n",
        "  if not blob.name.endswith(\"pickle\"):\n",
        "    continue\n",
        "  with blob.open(\"rb\") as f:\n",
        "    posting_locs = pickle.load(f)\n",
        "    for k, v in posting_locs.items():\n",
        "      super_posting_locs[k].extend(v)\n"
      ]
    },
    {
      "cell_type": "code",
      "execution_count": null,
      "id": "15624699",
      "metadata": {
        "id": "15624699"
      },
      "outputs": [],
      "source": [
        "# Create inverted index instance\n",
        "inverted = InvertedIndex()\n",
        "# Adding the posting locations dictionary to the inverted index\n",
        "inverted.posting_locs = super_posting_locs\n",
        "# Add the token - df dictionary to the inverted index\n",
        "inverted.df = w2df_dict\n",
        "# write the global stats out\n",
        "inverted.write_index('.', 'index')\n",
        "# upload to gs\n",
        "index_src = \"index.pkl\"\n",
        "index_dst = f'gs://{bucket_name}/postings_gcp_anchor/{index_src}'\n",
        "!gsutil cp $index_src $index_dst"
      ]
    },
    {
      "cell_type": "markdown",
      "source": [
        "Dictionaries\n"
      ],
      "metadata": {
        "id": "HTqFwOl9pl16"
      },
      "id": "HTqFwOl9pl16"
    },
    {
      "cell_type": "code",
      "source": [
        "idf, postings_tfidf = calculate_tf_idf(postings_anchor)\n",
        "docs_tfidf = postings_tfidf.flatMap(lambda x: x[1]).groupByKey().mapValues(list) #return: doc id, list of tfidf scores\n",
        "doc_normalization = docs_tfidf.map(lambda x:(x[0], clac_tfidf_norm(x[1]))).collectAsMap()\n",
        "\n",
        "# upload to bucket\n",
        "blob = bucket.blob('idf_anchor.pkl')\n",
        "blob.upload_from_string(pickle.dumps(idf))\n",
        "\n",
        "# upload to bucket\n",
        "blob = bucket.blob('anchor_normalization.pkl')\n",
        "blob.upload_from_string(pickle.dumps(doc_normalization))"
      ],
      "metadata": {
        "id": "Pxdi8c0UpqDc"
      },
      "id": "Pxdi8c0UpqDc",
      "execution_count": null,
      "outputs": []
    },
    {
      "cell_type": "markdown",
      "source": [
        "# BM25"
      ],
      "metadata": {
        "id": "Bnx8ZsPNX9Y3"
      },
      "id": "Bnx8ZsPNX9Y3"
    },
    {
      "cell_type": "code",
      "source": [
        "def calc_term_idf_bm25(df,corpus_len):\n",
        "    n = corpus_len - df + 0.5\n",
        "    den = df + 0.5\n",
        "    ret = np.log10((n / den) + 1)\n",
        "    return ret"
      ],
      "metadata": {
        "id": "h6vl2ku9YA4v"
      },
      "id": "h6vl2ku9YA4v",
      "execution_count": null,
      "outputs": []
    },
    {
      "cell_type": "markdown",
      "source": [
        "# text"
      ],
      "metadata": {
        "id": "8lGh9ikIZOKB"
      },
      "id": "8lGh9ikIZOKB"
    },
    {
      "cell_type": "code",
      "source": [
        "text_avg_dl = np.average(list(text_len_dict.values()))\n",
        "text_term_df = calculate_df(postings_filtered_text)\n",
        "text_term_idf_bm25 = text_term_df.map(lambda x: (x[0], calc_term_idf_bm25(x[1], corpus_len))).collectAsMap()"
      ],
      "metadata": {
        "id": "LaJVyLidYajB"
      },
      "id": "LaJVyLidYajB",
      "execution_count": null,
      "outputs": []
    },
    {
      "cell_type": "markdown",
      "source": [
        "# title"
      ],
      "metadata": {
        "id": "3oG3RrAVZQR5"
      },
      "id": "3oG3RrAVZQR5"
    },
    {
      "cell_type": "code",
      "source": [
        "title_avg_dl = np.average(list(title_len_dict.values()))\n",
        "title_term_df = calculate_df(postings_title)\n",
        "title_term_idf_bm25 = title_term_df.map(lambda x: (x[0], calc_term_idf_bm25(x[1], corpus_len))).collectAsMap()"
      ],
      "metadata": {
        "id": "hAl-Tcr0Yhiq"
      },
      "id": "hAl-Tcr0Yhiq",
      "execution_count": null,
      "outputs": []
    },
    {
      "cell_type": "markdown",
      "source": [
        "# anchor"
      ],
      "metadata": {
        "id": "H33tubxIZSBg"
      },
      "id": "H33tubxIZSBg"
    },
    {
      "cell_type": "code",
      "source": [
        "anchor_avg_dl = np.average(list(anchor_len_dict.values()))\n",
        "anchor_term_df = calculate_df(postings_anchor)\n",
        "anchor_term_idf_bm25 = anchor_term_df.map(lambda x: (x[0], calc_term_idf_bm25(x[1], corpus_len))).collectAsMap()"
      ],
      "metadata": {
        "id": "AruVAX4cYoMV"
      },
      "id": "AruVAX4cYoMV",
      "execution_count": null,
      "outputs": []
    },
    {
      "cell_type": "code",
      "source": [
        "# upload to bucket\n",
        "blob = bucket.blob('text_term_idf_bm25.pkl')\n",
        "blob.upload_from_string(pickle.dumps(text_term_idf_bm25))\n",
        "\n",
        "blob = bucket.blob('title_term_idf_bm25.pkl')\n",
        "blob.upload_from_string(pickle.dumps(title_term_idf_bm25))\n",
        "\n",
        "blob = bucket.blob('anchor_term_idf_bm25.pkl')\n",
        "blob.upload_from_string(pickle.dumps(anchor_term_idf_bm25))"
      ],
      "metadata": {
        "id": "uul_HV4JYmOh"
      },
      "id": "uul_HV4JYmOh",
      "execution_count": null,
      "outputs": []
    },
    {
      "cell_type": "markdown",
      "source": [
        "creating a dict of all 3 avg and uploading it to bucket"
      ],
      "metadata": {
        "id": "E-qDLWuRZYu7"
      },
      "id": "E-qDLWuRZYu7"
    },
    {
      "cell_type": "code",
      "source": [
        "avg_dl_dict = {'text': text_avg_dl , 'title': title_avg_dl , 'anchor':  anchor_avg_dl}\n",
        "blob = bucket.blob('avg_dl_dict.pkl')\n",
        "blob.upload_from_string(pickle.dumps(avg_dl_dict))"
      ],
      "metadata": {
        "id": "701b_KmcYsLP"
      },
      "id": "701b_KmcYsLP",
      "execution_count": null,
      "outputs": []
    },
    {
      "cell_type": "markdown",
      "source": [
        "# page rank\n",
        "taking the page rank from Assignment 3, convert it to dict and uploding it to bucket"
      ],
      "metadata": {
        "id": "ZlQz_IE_Z-hV"
      },
      "id": "ZlQz_IE_Z-hV"
    },
    {
      "cell_type": "code",
      "source": [
        "import gzip\n",
        "import io\n",
        "import csv\n",
        "\n",
        "file_path = 'pr/part-00000-273e4666-25ce-4ecd-9c19-7834bd65494a-c000.csv.gz'\n",
        "blob = bucket.blob(file_path)\n",
        "blob_data = blob.download_as_string()\n",
        "\n",
        "decompressed_data = gzip.decompress(blob_data)\n",
        "decompressed_text = decompressed_data.decode('utf-8')\n",
        "csv_data = io.StringIO(decompressed_text)\n",
        "csv_reader = csv.reader(csv_data)\n",
        "\n",
        "page_rank_rdd = sc.parallelize(list(csv_reader))\n",
        "page_rank = page_rank_rdd.collectAsMap()\n",
        "\n",
        "blob = bucket.blob('page_rank.pkl')\n",
        "blob.upload_from_string(pickle.dumps(page_rank))"
      ],
      "metadata": {
        "id": "DoRG6wgQaBj1"
      },
      "id": "DoRG6wgQaBj1",
      "execution_count": null,
      "outputs": []
    }
  ],
  "metadata": {
    "celltoolbar": "Create Assignment",
    "colab": {
      "provenance": [],
      "toc_visible": true
    },
    "kernelspec": {
      "display_name": "PySpark",
      "language": "python",
      "name": "pyspark"
    },
    "language_info": {
      "codemirror_mode": {
        "name": "ipython",
        "version": 3
      },
      "file_extension": ".py",
      "mimetype": "text/x-python",
      "name": "python",
      "nbconvert_exporter": "python",
      "pygments_lexer": "ipython3",
      "version": "3.10.8"
    }
  },
  "nbformat": 4,
  "nbformat_minor": 5
}